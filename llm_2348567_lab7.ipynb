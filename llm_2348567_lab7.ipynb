{
  "nbformat": 4,
  "nbformat_minor": 0,
  "metadata": {
    "colab": {
      "provenance": [],
      "authorship_tag": "ABX9TyNpyu5n9bw6OKe6LrF6w36+",
      "include_colab_link": true
    },
    "kernelspec": {
      "name": "python3",
      "display_name": "Python 3"
    },
    "language_info": {
      "name": "python"
    }
  },
  "cells": [
    {
      "cell_type": "markdown",
      "metadata": {
        "id": "view-in-github",
        "colab_type": "text"
      },
      "source": [
        "<a href=\"https://colab.research.google.com/github/swetha-rrr/PLLM/blob/main/llm_2348567_lab7.ipynb\" target=\"_parent\"><img src=\"https://colab.research.google.com/assets/colab-badge.svg\" alt=\"Open In Colab\"/></a>"
      ]
    },
    {
      "cell_type": "code",
      "execution_count": 1,
      "metadata": {
        "id": "nScm9XfgKtYM"
      },
      "outputs": [],
      "source": [
        "import pandas as pd\n",
        "from sklearn.model_selection import train_test_split\n",
        "from sklearn.preprocessing import LabelEncoder\n",
        "from tensorflow.keras.preprocessing.text import Tokenizer\n",
        "from tensorflow.keras.preprocessing.sequence import pad_sequences"
      ]
    },
    {
      "cell_type": "code",
      "source": [
        "from tensorflow.keras.preprocessing.text import Tokenizer\n",
        "from tensorflow.keras.preprocessing.sequence import pad_sequences\n",
        "from sklearn.preprocessing import LabelEncoder\n"
      ],
      "metadata": {
        "id": "ba63HjXyM1oW"
      },
      "execution_count": 4,
      "outputs": []
    },
    {
      "cell_type": "code",
      "source": [
        "texts = [\n",
        "    \"Patient presents with symptoms of high fever and cough.\",\n",
        "    \"Diagnosed with type 2 diabetes mellitus.\",\n",
        "    \"Recommended 500 mg of amoxicillin for 7 days.\",\n",
        "    \"Patient reports chronic back pain over the past month.\",\n",
        "    \"Underwent successful knee replacement surgery.\"\n",
        "]\n",
        "\n",
        "labels = [\"Symptom\", \"Diagnosis\", \"Treatment\", \"Symptom\", \"Procedure\"]\n"
      ],
      "metadata": {
        "id": "tE-LYEAyNGxP"
      },
      "execution_count": 5,
      "outputs": []
    },
    {
      "cell_type": "code",
      "source": [
        "label_encoder = LabelEncoder()\n",
        "encoded_labels = label_encoder.fit_transform(labels)\n",
        "print(\"Encoded Labels:\", encoded_labels)\n"
      ],
      "metadata": {
        "colab": {
          "base_uri": "https://localhost:8080/"
        },
        "id": "m8HzQOiRNt5o",
        "outputId": "c3610bc1-f32a-4eac-a192-80fedeed2c58"
      },
      "execution_count": 7,
      "outputs": [
        {
          "output_type": "stream",
          "name": "stdout",
          "text": [
            "Encoded Labels: [2 0 3 2 1]\n"
          ]
        }
      ]
    },
    {
      "cell_type": "code",
      "source": [
        "vocab_size = 50  # Small vocabulary for this example\n",
        "max_length = 10  # Maximum sequence length for padding\n",
        "\n",
        "tokenizer = Tokenizer(num_words=vocab_size, oov_token=\"<OOV>\")\n",
        "tokenizer.fit_on_texts(texts)\n",
        "sequences = tokenizer.texts_to_sequences(texts)\n",
        "padded_sequences = pad_sequences(sequences, maxlen=max_length, padding='post')\n",
        "\n",
        "print(\"Word Index:\", tokenizer.word_index)\n",
        "print(\"Padded Sequences:\\n\", padded_sequences)\n"
      ],
      "metadata": {
        "colab": {
          "base_uri": "https://localhost:8080/"
        },
        "id": "iU9Bv1qjNxOT",
        "outputId": "07562ce0-f3eb-41d4-d797-03bd831edcd6"
      },
      "execution_count": 8,
      "outputs": [
        {
          "output_type": "stream",
          "name": "stdout",
          "text": [
            "Word Index: {'<OOV>': 1, 'patient': 2, 'with': 3, 'of': 4, 'presents': 5, 'symptoms': 6, 'high': 7, 'fever': 8, 'and': 9, 'cough': 10, 'diagnosed': 11, 'type': 12, '2': 13, 'diabetes': 14, 'mellitus': 15, 'recommended': 16, '500': 17, 'mg': 18, 'amoxicillin': 19, 'for': 20, '7': 21, 'days': 22, 'reports': 23, 'chronic': 24, 'back': 25, 'pain': 26, 'over': 27, 'the': 28, 'past': 29, 'month': 30, 'underwent': 31, 'successful': 32, 'knee': 33, 'replacement': 34, 'surgery': 35}\n",
            "Padded Sequences:\n",
            " [[ 2  5  3  6  4  7  8  9 10  0]\n",
            " [11  3 12 13 14 15  0  0  0  0]\n",
            " [16 17 18  4 19 20 21 22  0  0]\n",
            " [ 2 23 24 25 26 27 28 29 30  0]\n",
            " [31 32 33 34 35  0  0  0  0  0]]\n"
          ]
        }
      ]
    },
    {
      "cell_type": "code",
      "source": [],
      "metadata": {
        "id": "PtZs0obHN0Pz"
      },
      "execution_count": null,
      "outputs": []
    }
  ]
}